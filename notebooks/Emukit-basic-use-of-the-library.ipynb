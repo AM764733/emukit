{
 "cells": [
  {
   "cell_type": "markdown",
   "metadata": {},
   "source": [
    "# Basic use of the Emukit\n",
    "\n"
   ]
  },
  {
   "cell_type": "markdown",
   "metadata": {},
   "source": [
    "## Overview"
   ]
  },
  {
   "cell_type": "code",
   "execution_count": 1,
   "metadata": {
    "collapsed": true
   },
   "outputs": [],
   "source": [
    "# General imports and parameters of figures should be loaded at the beginning of the overview\n",
    "\n",
    "### General imports\n",
    "%matplotlib inline\n",
    "import numpy as np\n",
    "import matplotlib.pyplot as plt\n",
    "from matplotlib import colors as mcolors\n",
    "\n",
    "### --- Figure config\n",
    "colors = dict(mcolors.BASE_COLORS, **mcolors.CSS4_COLORS)\n",
    "LEGEND_SIZE = 15\n",
    "TITLE_SIZE = 25\n",
    "AXIS_SIZE = 15"
   ]
  },
  {
   "cell_type": "markdown",
   "metadata": {},
   "source": [
    "The goal of this notebook is to illustrate how the a model can wrapped and used in different tasks in Emukit."
   ]
  },
  {
   "cell_type": "markdown",
   "metadata": {},
   "source": [
    "### Navigation\n",
    "\n",
    "1. [Load your objective, collect some data, build a model](#1.-Load your objective, collect some data, build a model)\n",
    "\n",
    "2. [Load the elements to solve your problem and run the decision loop if needed](#2.-Load the elements to solve your problem and run the decision loop if needed)\n",
    "\n",
    "3. [Conclusions](#3.-Conclusions)"
   ]
  },
  {
   "cell_type": "markdown",
   "metadata": {},
   "source": [
    "## 1.  Load your objective, collect some data, build a model\n",
    "\n",
    "These steps are common to all methods in Emukit.Here we illustrate how to do it with the branin function."
   ]
  },
  {
   "cell_type": "code",
   "execution_count": 101,
   "metadata": {
    "collapsed": true
   },
   "outputs": [],
   "source": [
    "from emukit.test_functions import branin_function\n",
    "from emukit.core import ParameterSpace, ContinuousParameter\n",
    "from emukit.experimental_design.model_free.random_design import RandomDesign\n",
    "from GPy.models import GPRegression\n",
    "from emukit.model_wrappers import GPyModelWrapper"
   ]
  },
  {
   "cell_type": "markdown",
   "metadata": {},
   "source": [
    "#### Define the objective function"
   ]
  },
  {
   "cell_type": "code",
   "execution_count": 87,
   "metadata": {},
   "outputs": [],
   "source": [
    "f, _ = branin_function()"
   ]
  },
  {
   "cell_type": "markdown",
   "metadata": {},
   "source": [
    "#### Define the parameter space"
   ]
  },
  {
   "cell_type": "code",
   "execution_count": 88,
   "metadata": {},
   "outputs": [],
   "source": [
    "parameter_space = ParameterSpace([ContinuousParameter('x1', -5, 10), ContinuousParameter('x2', 0, 15)])"
   ]
  },
  {
   "cell_type": "markdown",
   "metadata": {},
   "source": [
    "#### Collect some points and build a model of f"
   ]
  },
  {
   "cell_type": "code",
   "execution_count": 89,
   "metadata": {},
   "outputs": [],
   "source": [
    "num_data_points = 30\n",
    "design = RandomDesign(parameter_space)\n",
    "X = design.get_samples(num_data_points)\n",
    "Y  = f(X)"
   ]
  },
  {
   "cell_type": "markdown",
   "metadata": {},
   "source": [
    "#### Fit and wrap a model to the collected data"
   ]
  },
  {
   "cell_type": "code",
   "execution_count": 90,
   "metadata": {},
   "outputs": [],
   "source": [
    "model_gpy = GPRegression(X,Y)\n",
    "model_gpy.optimize()\n",
    "model_emukit = GPyModelWrapper(model_gpy)"
   ]
  },
  {
   "cell_type": "markdown",
   "metadata": {},
   "source": [
    "## 2.  Load the elements to solve your problem and run the decision loop (if needed)"
   ]
  },
  {
   "cell_type": "code",
   "execution_count": 91,
   "metadata": {
    "collapsed": true
   },
   "outputs": [],
   "source": [
    "# -- Decision loops \n",
    "from emukit.experimental_design.model_based import ExperimentalDesignLoop\n",
    "from emukit.bayesian_optimization.loops import BayesianOptimizationLoop\n",
    "\n",
    "# -- Acquisition functions \n",
    "from emukit.bayesian_optimization.acquisitions import ExpectedImprovement\n",
    "from emukit.experimental_design.model_based.acquisitions import ModelVariance\n",
    "\n",
    "# -- Point calculators\n",
    "from emukit.core.loop import Sequential\n",
    "\n",
    "# -- Acquistions optimizers\n",
    "from emukit.core.optimization import AcquisitionOptimizer\n",
    "\n",
    "# -- Stopping conditions\n",
    "from emukit.core.loop import FixedIterationsStoppingCondition"
   ]
  },
  {
   "cell_type": "markdown",
   "metadata": {},
   "source": [
    "#### Bayesian optimization"
   ]
  },
  {
   "cell_type": "code",
   "execution_count": 92,
   "metadata": {
    "collapsed": true
   },
   "outputs": [],
   "source": [
    "## -- Load core elements for Bayesian optimization\n",
    "expected_improvement = ExpectedImprovement(model = model_emukit)\n",
    "optimizer            = AcquisitionOptimizer(space = parameter_space)\n",
    "point_calculator     = Sequential(expected_improvement, optimizer)"
   ]
  },
  {
   "cell_type": "code",
   "execution_count": 93,
   "metadata": {},
   "outputs": [],
   "source": [
    "## -- Create the Bayesian optimization object\n",
    "bayesopt_loop = BayesianOptimizationLoop(model = model_emukit,\n",
    "                                         space = parameter_space,\n",
    "                                         X_init = X,\n",
    "                                         Y_init = Y, \n",
    "                                         acquisition = expected_improvement,\n",
    "                                         candidate_point_calculator = point_calculator) "
   ]
  },
  {
   "cell_type": "code",
   "execution_count": 94,
   "metadata": {},
   "outputs": [],
   "source": [
    "## -- Run the loop and extract the optimum\n",
    "stopping_condition = FixedIterationsStoppingCondition(i_max = 10)\n",
    "bayesopt_loop.run_loop(f, stopping_condition)"
   ]
  },
  {
   "cell_type": "markdown",
   "metadata": {},
   "source": [
    "#### Experimental design"
   ]
  },
  {
   "cell_type": "code",
   "execution_count": 95,
   "metadata": {
    "collapsed": true
   },
   "outputs": [],
   "source": [
    "## -- Load core elements for Experimental design\n",
    "model_variance   = ModelVariance(model = model_emukit)\n",
    "optimizer        = AcquisitionOptimizer(space = parameter_space)\n",
    "point_calculator = Sequential(model_variance, optimizer)"
   ]
  },
  {
   "cell_type": "code",
   "execution_count": 96,
   "metadata": {},
   "outputs": [],
   "source": [
    "## -- Create the Bayesian optimization object\n",
    "expdesign_loop = ExperimentalDesignLoop(space = parameter_space,\n",
    "                                        model = model_emukit,\n",
    "                                        acquisition = expected_improvement,\n",
    "                                        update_interval =1,\n",
    "                                        batch_size = 1) "
   ]
  },
  {
   "cell_type": "code",
   "execution_count": 97,
   "metadata": {
    "collapsed": true
   },
   "outputs": [],
   "source": [
    "## -- Run the loop and extract the optimum\n",
    "stopping_condition = FixedIterationsStoppingCondition(i_max = 10)\n",
    "expdesign_loop.run_loop(f, stopping_condition)"
   ]
  },
  {
   "cell_type": "markdown",
   "metadata": {},
   "source": [
    "#### Bayesian Quadrature"
   ]
  },
  {
   "cell_type": "code",
   "execution_count": 100,
   "metadata": {
    "collapsed": true
   },
   "outputs": [],
   "source": [
    "#TODO"
   ]
  },
  {
   "cell_type": "markdown",
   "metadata": {},
   "source": [
    "#### Snesitivity analysis"
   ]
  },
  {
   "cell_type": "code",
   "execution_count": 98,
   "metadata": {},
   "outputs": [],
   "source": [
    "### No loop here, compute Sobol indices\n",
    "senstivity_analysis= MonteCarloSensitivity(model = model_emukit, input_domain = parameter_space)\n",
    "main_effects, total_effects, _ = senstivity_analysis.compute_effects(num_monte_carlo_points = 10000)"
   ]
  },
  {
   "cell_type": "markdown",
   "metadata": {},
   "source": [
    "## 3. Conclusions\n",
    "\n",
    "We have run all these methods using the same model and the sample objective function. With Emukit, probabilistic models can be easily tested over multiple decision problem with a very light API."
   ]
  }
 ],
 "metadata": {
  "kernelspec": {
   "display_name": "Python 3",
   "language": "python",
   "name": "python3"
  },
  "language_info": {
   "codemirror_mode": {
    "name": "ipython",
    "version": 3
   },
   "file_extension": ".py",
   "mimetype": "text/x-python",
   "name": "python",
   "nbconvert_exporter": "python",
   "pygments_lexer": "ipython3",
   "version": "3.6.3"
  }
 },
 "nbformat": 4,
 "nbformat_minor": 2
}
