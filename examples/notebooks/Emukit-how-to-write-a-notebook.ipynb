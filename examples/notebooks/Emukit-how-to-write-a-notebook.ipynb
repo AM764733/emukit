{
 "cells": [
  {
   "cell_type": "markdown",
   "metadata": {},
   "source": [
    "<center>\n",
    "    <h1>\n",
    "        Title of notebook ... with <b style=\"color:#FF9900\">Emukit</b>\n",
    "    </h1>\n",
    "    <br>\n",
    "    <hr>\n",
    "    <br>\n",
    "<center>\n",
    "    By *Author 1* and *Author 2* with edits by *Editor 1*\n",
    "    \n",
    "    Place, date"
   ]
  },
  {
   "cell_type": "markdown",
   "metadata": {},
   "source": [
    "<div class=\"alert alert-success\">\n",
    "    <h2>\n",
    "        Overview\n",
    "    </h2>\n",
    "</div>"
   ]
  },
  {
   "cell_type": "code",
   "execution_count": 1,
   "metadata": {},
   "outputs": [],
   "source": [
    "# General imports and parameters of figures should be loaded at the beggining of the overview\n",
    "\n",
    "### General imports\n",
    "%matplotlib inline\n",
    "import numpy as np\n",
    "import matplotlib.pyplot as plt\n",
    "from matplotlib import colors as mcolors\n",
    "\n",
    "### --- Figure config\n",
    "colors = dict(mcolors.BASE_COLORS, **mcolors.CSS4_COLORS)\n",
    "LEGEND_SIZE = 15\n",
    "TITLE_SIZE = 25\n",
    "AXIS_SIZE = 15"
   ]
  },
  {
   "cell_type": "markdown",
   "metadata": {},
   "source": [
    "Describe here the purpose and goal of the notebook. Notebooks can be used to:\n",
    "\n",
    "1. Introduce some UQ topic, e.g, optimization, quadrature, etc. These general purpose notebooks will finish with 'with Emukit'.\n",
    "2. Describe an advanced feature of a topic.\n",
    "3. Illustrate a particular functionality of Emukit.\n",
    "\n",
    "Notebooks should be self-contained but it they are of type 2 or 3 the can/must link to some background topic of type 1.\n",
    "\n",
    "The overview must start with the general imports and plots configuration\n",
    "\n",
    "The overview section must finish with a Navigation that links to the main sections of the notebook\n"
   ]
  },
  {
   "cell_type": "markdown",
   "metadata": {},
   "source": [
    "### Navigation\n",
    "\n",
    "1. [Section 1](#label_s1)\n",
    "\n",
    "2. [Section 2](#label_s2)\n",
    "\n",
    "3. [Conclusions](#label_conclusions)\n",
    "\n",
    "4. [References](#label_refereces)"
   ]
  },
  {
   "cell_type": "markdown",
   "metadata": {},
   "source": [
    "<div class=\"alert alert-success\">\n",
    "    <h2>\n",
    "        <a id='label_s1'>\n",
    "        1. Section 1\n",
    "        </a>\n",
    "    </h2>\n",
    "</div>"
   ]
  },
  {
   "cell_type": "code",
   "execution_count": 2,
   "metadata": {},
   "outputs": [],
   "source": [
    "# Specific imports that are used in a section should be loaded at the beggining of that section. It is ok, if an \n",
    "# import is repeated multiple times over the notebook\n",
    "\n",
    "import GPy"
   ]
  },
  {
   "cell_type": "code",
   "execution_count": 3,
   "metadata": {},
   "outputs": [],
   "source": [
    "### Body of the section here"
   ]
  },
  {
   "cell_type": "markdown",
   "metadata": {},
   "source": [
    "<div class=\"alert alert-info\">\n",
    "<b>Note</b>: Important notes in the text can be added using this class\n",
    "</div>"
   ]
  },
  {
   "cell_type": "markdown",
   "metadata": {},
   "source": [
    "Links to references [[Kennedy and O'Hagan, 2000]](#perdikaris) and the end of the notebook can be added in the main text."
   ]
  },
  {
   "cell_type": "markdown",
   "metadata": {},
   "source": [
    "<div class=\"alert alert-success\">\n",
    "    <h2>\n",
    "        <a id='label_s2'>\n",
    "        2. Section 2\n",
    "        </a>\n",
    "    </h2>\n",
    "</div>"
   ]
  },
  {
   "cell_type": "code",
   "execution_count": 4,
   "metadata": {},
   "outputs": [],
   "source": [
    "### Body of the section here\n"
   ]
  },
  {
   "cell_type": "markdown",
   "metadata": {},
   "source": [
    "<div class=\"alert alert-success\">\n",
    "    <h2>\n",
    "        <a id='label_conclusions'>\n",
    "        3. Conclusions\n",
    "        </a>\n",
    "    </h2>\n",
    "</div>"
   ]
  },
  {
   "cell_type": "markdown",
   "metadata": {},
   "source": [
    "<div class=\"alert alert-success\">\n",
    "    <h2>\n",
    "        <a id='label_refereces'>\n",
    "        4. References\n",
    "    </h2>\n",
    "</div>"
   ]
  },
  {
   "cell_type": "markdown",
   "metadata": {},
   "source": [
    "<a id='kennedy'>[Kennedy and O'Hagan, 2000] Kennedy, M.C. and O'Hagan, A., 2000. <i>Predicting the output from a complex computer code when fast approximations are available.</i> Biometrika, 87(1), pp.1-13.</a>\n",
    "\n",
    "<a id='perdikaris'>[Perdikaris et al. 2017] Perdikaris, P., Raissi, M., Damianou, A., Lawrence, N.D. and Karniadakis, G.E., 2017. <i>Nonlinear information fusion algorithms for data-efficient multi-fidelity modelling.</i> Proc. R. Soc. A, 473(2198), p.20160751.</a>"
   ]
  }
 ],
 "metadata": {
  "kernelspec": {
   "display_name": "Python 3",
   "language": "python",
   "name": "python3"
  },
  "language_info": {
   "codemirror_mode": {
    "name": "ipython",
    "version": 3
   },
   "file_extension": ".py",
   "mimetype": "text/x-python",
   "name": "python",
   "nbconvert_exporter": "python",
   "pygments_lexer": "ipython3",
   "version": "3.6.5"
  }
 },
 "nbformat": 4,
 "nbformat_minor": 2
}
